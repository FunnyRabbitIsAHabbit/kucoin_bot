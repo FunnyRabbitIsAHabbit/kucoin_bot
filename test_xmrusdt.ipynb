{
  "cells": [
    {
      "cell_type": "code",
      "execution_count": null,
      "metadata": {
        "collapsed": true,
        "id": "yFre3Y_Iuwgo"
      },
      "outputs": [],
      "source": [
        "%%capture\n",
        "!pip install --upgrade pip && pip install ccxt stockstats"
      ]
    },
    {
      "cell_type": "code",
      "execution_count": null,
      "metadata": {
        "id": "lp6YWVEmuhjU"
      },
      "outputs": [],
      "source": [
        "# 3rd party modules\n",
        "import numpy as np\n",
        "import pandas as pd\n",
        "import ccxt\n",
        "from ccxt import Exchange\n",
        "from google.colab import userdata\n",
        "from stockstats import StockDataFrame"
      ]
    },
    {
      "cell_type": "code",
      "execution_count": null,
      "metadata": {
        "id": "bJgMdCLRuGvG"
      },
      "outputs": [],
      "source": [
        "# Secrets\n",
        "EXCHANGE_API_KEY: str = userdata.get(\"EXCHANGE_API_KEY\")\n",
        "EXCHANGE_SECRET: str = userdata.get(\"EXCHANGE_SECRET\")\n",
        "EXCHANGE_PASSWORD: str = userdata.get(\"EXCHANGE_PASSWORD\")\n",
        "\n",
        "# Set parameters for calculation\n",
        "EXCHANGE_NAME: str = \"kucoin\"\n",
        "SYMBOL: str = \"XMR/USDT\"\n",
        "BASE: str = SYMBOL.split('/')[0]\n",
        "QUOTE: str = SYMBOL.split('/')[1]\n",
        "TIMEFRAME: str = \"5m\"\n",
        "\n",
        "# Number of 'TIMEFRAME' intervals\n",
        "DATA_VECTOR_LENGTH: int = 1000\n",
        "\n",
        "# Exchange fee & minimum deal value\n",
        "TRANSACTION_FEE: float = 0.001\n",
        "MIN_QUOTE_VALUE: float = 0.01\n",
        "\n",
        "# Norm of profit\n",
        "PRICE_PREMIUM_OR_DISCOUNT_OVER_FEE: float = 0.001\n",
        "PREM_DISC: float = TRANSACTION_FEE + PRICE_PREMIUM_OR_DISCOUNT_OVER_FEE"
      ]
    },
    {
      "cell_type": "code",
      "execution_count": null,
      "metadata": {
        "id": "UFIACYU_ufMM"
      },
      "outputs": [],
      "source": [
        "pd.options.mode.copy_on_write = True"
      ]
    },
    {
      "cell_type": "code",
      "execution_count": null,
      "metadata": {
        "id": "Ac4sSrL-u9nw"
      },
      "outputs": [],
      "source": [
        "exchange: Exchange = getattr(ccxt, EXCHANGE_NAME)()"
      ]
    },
    {
      "cell_type": "code",
      "execution_count": null,
      "metadata": {
        "id": "N3DPizz1vJjh"
      },
      "outputs": [],
      "source": [
        "data = exchange.fetch_ohlcv(\n",
        "                    SYMBOL, TIMEFRAME, limit=DATA_VECTOR_LENGTH)"
      ]
    },
    {
      "cell_type": "code",
      "execution_count": null,
      "metadata": {
        "id": "4pc-Ka30vVJN"
      },
      "outputs": [],
      "source": [
        "# case is important (StockDataFrame looks for 'date' to index data)\n",
        "header: tuple = ('date', 'open', 'high', 'low', 'close', 'volume')\n",
        "df = pd.DataFrame(data, columns=header)"
      ]
    },
    {
      "cell_type": "code",
      "execution_count": null,
      "metadata": {
        "id": "6YPBX-_RvdFG"
      },
      "outputs": [],
      "source": [
        "# Process as stocks data\n",
        "sdf = StockDataFrame.retype(df)\n",
        "\n",
        "# Set indicator (& all underlying ind-s) window size to `win_size` periods\n",
        "wait_for_n_signal_lags: int = 1\n",
        "indicators: list[str] = ['close_5,15_kama']\n",
        "\n",
        "\n",
        "# Price data (or other trend)\n",
        "price_type_column_name_from_sdf: str = 'close_3_ema'\n",
        "\n",
        "# Price to simulate orders with\n",
        "price: str = \"middle\""
      ]
    },
    {
      "cell_type": "code",
      "execution_count": null,
      "metadata": {
        "id": "r_GDM6wdxjI6"
      },
      "outputs": [],
      "source": [
        "out: pd.DataFrame = sdf[[*indicators, price_type_column_name_from_sdf, price]]"
      ]
    },
    {
      "cell_type": "code",
      "execution_count": null,
      "metadata": {
        "id": "rcgDSIFLz-CS"
      },
      "outputs": [],
      "source": [
        "_x = [sdf[f'{price_type_column_name_from_sdf}_xu_{indicator}{\"_delta\" * wait_for_n_signal_lags}'] *\n",
        "      sdf[indicator].le(sdf[price_type_column_name_from_sdf])\n",
        "      for indicator in indicators]\n",
        "\n",
        "_a = [sdf[f'{price_type_column_name_from_sdf}_xd_{indicator}{\"_delta\" * wait_for_n_signal_lags}'] *\n",
        "      sdf[price_type_column_name_from_sdf].le(sdf[indicator])\n",
        "      for indicator in indicators]\n",
        "\n",
        "if wait_for_n_signal_lags > 1:\n",
        "    _x += [-sdf[f'{price_type_column_name_from_sdf}_xd_{indicator}{\"_delta\" * i}']\n",
        "          for i in range(1, wait_for_n_signal_lags)\n",
        "          for indicator in indicators]\n",
        "    _a += [-sdf[f'{price_type_column_name_from_sdf}_xu_{indicator}{\"_delta\" * i}']\n",
        "          for i in range(1, wait_for_n_signal_lags)\n",
        "          for indicator in indicators]\n",
        "\n",
        "out['signal_buy'] = np.logical_and.reduce(_x)\n",
        "out['signal_sell'] = np.logical_and.reduce(_a)"
      ]
    },
    {
      "cell_type": "code",
      "execution_count": null,
      "metadata": {
        "colab": {
          "base_uri": "https://localhost:8080/"
        },
        "id": "Dwj17XnrWjCK",
        "outputId": "2ea76b63-7e77-4e4e-b901-621bfebabdb5"
      },
      "outputs": [
        {
          "output_type": "execute_result",
          "data": {
            "text/plain": [
              "116"
            ]
          },
          "metadata": {},
          "execution_count": 34
        }
      ],
      "source": [
        "sum(out['signal_buy'] == True)"
      ]
    },
    {
      "cell_type": "code",
      "source": [
        "alls = out['signal_buy'][out['signal_buy'] == True] & out['signal_buy'][out['signal_buy'] == True]\n",
        "assert alls.all(), \"NUMPY YIELDS UNEXPLAINED RESULTS FOR MULTIPLICATION\""
      ],
      "metadata": {
        "id": "K0sJph_3L9Ku"
      },
      "execution_count": null,
      "outputs": []
    },
    {
      "cell_type": "code",
      "source": [
        "def intersects(df):\n",
        "    col1 = 'signal_buy'\n",
        "    col2 = 'signal_sell'\n",
        "    condition = df[col1] == True\n",
        "    return df[col1][condition] & df[col2][condition]"
      ],
      "metadata": {
        "id": "R4EGMsOWNOR9"
      },
      "execution_count": null,
      "outputs": []
    },
    {
      "cell_type": "code",
      "source": [
        "_i = intersects(out)\n",
        "print(_i.shape)\n",
        "if _i.any():\n",
        "    out.loc[_i[_i == True].index, \"signal_buy\"] = False\n",
        "    out.loc[_i[_i == True].index, \"signal_sell\"] = False"
      ],
      "metadata": {
        "colab": {
          "base_uri": "https://localhost:8080/"
        },
        "id": "0nYH9Zs4MxSr",
        "outputId": "2ebed6e2-4140-43c4-93b9-f16fbd7ab4ad"
      },
      "execution_count": null,
      "outputs": [
        {
          "output_type": "stream",
          "name": "stdout",
          "text": [
            "(116,)\n"
          ]
        }
      ]
    },
    {
      "cell_type": "code",
      "execution_count": null,
      "metadata": {
        "id": "UemJqwRDN4Ba"
      },
      "outputs": [],
      "source": [
        "# Just checking expected behavior (MUST BE FALSE), if all good – nothing happens\n",
        "assert not intersects(out).any(), \"CHECK FAILED\""
      ]
    },
    {
      "cell_type": "code",
      "execution_count": null,
      "metadata": {
        "id": "T-yINjI_6kWf"
      },
      "outputs": [],
      "source": [
        "def up_or_down_from_last(df: pd.DataFrame) -> str:\n",
        "    \"\"\"\n",
        "\n",
        "        :param df: a df with signals that has either a 'signal_buy' column or a 'sinal_sell' column.\n",
        "        :return: str instance of 'up' or 'down', or 'error (if df doesn't have specified columns).\n",
        "    \"\"\"\n",
        "    assert isinstance(df, pd.DataFrame) or issubclass(type(df), pd.DataFrame), \"NOT A DATAFRAME OBJECT\"\n",
        "    assert \"signal_buy\" in df.columns and 'signal_sell' in df.columns, \"NO COLUMNS\"\n",
        "\n",
        "\n",
        "    signal_buy: bool = df[\"signal_buy\"].tail(1).item()\n",
        "    signal_sell: bool = df[\"signal_sell\"].tail(1).item()\n",
        "\n",
        "    if signal_buy:\n",
        "        return \"up\"\n",
        "\n",
        "    if signal_sell:\n",
        "        return \"down\"\n",
        "\n",
        "    return \"hold\"\n"
      ]
    },
    {
      "cell_type": "code",
      "execution_count": null,
      "metadata": {
        "id": "ZUOHaRC56bc3"
      },
      "outputs": [],
      "source": [
        "# Good method\n",
        "signals = [up_or_down_from_last(out.head(i)) for i in range(1, len(out))]\n",
        "\n",
        "\n",
        "# Data lag\n",
        "diff = len(out[price_type_column_name_from_sdf]) - len(signals)"
      ]
    },
    {
      "cell_type": "code",
      "execution_count": null,
      "metadata": {
        "id": "PIZJU6Roscu0"
      },
      "outputs": [],
      "source": [
        "budget_quote: float = 8.09\n",
        "budget_base: float = 0.0\n",
        "budget_base_in_quote: float = budget_base * out[price_type_column_name_from_sdf].head(1).item()\n",
        "trust: float = 0.85 # universal distrust is 0.5\n",
        "risk_free_percentage_annual: float = 5.0\n",
        "\n",
        "# Must be updated accordingly every time TIMEFRAME is changed\n",
        "risk_free_percentage: float = risk_free_percentage_annual / 360 / 24 / 60 * 5 * DATA_VECTOR_LENGTH # Not annual rate!!!"
      ]
    },
    {
      "cell_type": "code",
      "execution_count": null,
      "metadata": {
        "id": "pXun0Xmbs_lb"
      },
      "outputs": [],
      "source": [
        "def simulate(\n",
        "        trust: float,\n",
        "        budget: float | int,\n",
        "        base_position: float | int,\n",
        "        quote_position: float | int,\n",
        "        predictions: list,\n",
        "        prices: list,\n",
        "        epochs: int = 10,\n",
        "    ) -> tuple[float | None, float | None]:\n",
        "\n",
        "\n",
        "    if len(predictions) <= epochs:\n",
        "        current_base: float = base_position\n",
        "        current_quote: float = quote_position\n",
        "\n",
        "        for e in range(epochs):\n",
        "\n",
        "\n",
        "            if predictions[e] == \"up\":\n",
        "                price: float = prices[e] * (1 - PREM_DISC)\n",
        "                deal_value_base: float = trust * current_quote / price\n",
        "                deal_value_quote: float = price * deal_value_base\n",
        "\n",
        "                if deal_value_quote > MIN_QUOTE_VALUE:\n",
        "                    # print(f'Bullish, {BASE}{round(deal_value_base, 4)} for {QUOTE}{round(deal_value_quote, 2)};{current_base, current_quote}')\n",
        "\n",
        "                    current_quote -= deal_value_quote\n",
        "                    current_base += deal_value_base\n",
        "                else:\n",
        "                    continue\n",
        "\n",
        "            elif predictions[e] == \"down\":\n",
        "                price: float = prices[e] * (1 + PREM_DISC)\n",
        "                deal_value_quote: float = trust * current_base * price\n",
        "                deal_value_base: float = deal_value_quote / price\n",
        "\n",
        "                if deal_value_quote > MIN_QUOTE_VALUE:\n",
        "                    # print(f'Bearish, {BASE}{round(deal_value_base, 4)} for {QUOTE}{round(deal_value_quote, 2)};{current_base, current_quote}')\n",
        "\n",
        "                    current_quote += deal_value_quote\n",
        "                    current_base -= deal_value_base\n",
        "\n",
        "                else:\n",
        "                    continue\n",
        "\n",
        "            else:\n",
        "                continue\n",
        "\n",
        "        return current_base, current_quote\n",
        "\n",
        "\n",
        "    return None, None"
      ]
    },
    {
      "cell_type": "code",
      "execution_count": null,
      "metadata": {
        "id": "6MvyOpsMu60e"
      },
      "outputs": [],
      "source": [
        "new_base, new_quote = simulate(\n",
        "    trust=trust,\n",
        "    budget=budget_quote,\n",
        "    base_position=budget_base,\n",
        "    quote_position=budget_quote,\n",
        "    predictions=signals,\n",
        "    prices=list(out[price][diff:]),\n",
        "    epochs=len(signals)\n",
        ")"
      ]
    },
    {
      "cell_type": "markdown",
      "metadata": {
        "id": "GzWWsFQGAEpN"
      },
      "source": [
        "# Simulation result"
      ]
    },
    {
      "cell_type": "code",
      "execution_count": null,
      "metadata": {
        "id": "6-iGNptOvtJO",
        "colab": {
          "base_uri": "https://localhost:8080/"
        },
        "outputId": "47c31f4a-2039-4a1f-fc6b-cb172864b62b"
      },
      "outputs": [
        {
          "output_type": "stream",
          "name": "stdout",
          "text": [
            "Result: 21.8272% (OKAY)\n",
            "Result over benchmark: 21.779% (GOOD)\n"
          ]
        }
      ],
      "source": [
        "base_total_in_quote: float = new_base * out[price_type_column_name_from_sdf].tail(1).item()\n",
        "result: float = round(100 * (base_total_in_quote + new_quote) / (budget_quote + budget_base_in_quote) - 100, 4)\n",
        "print(f\"Result: {result}% ({'OKAY' if result > 0 else 'NOT OKAY'})\")\n",
        "over_risk_free: float = round(result - risk_free_percentage, 4)\n",
        "print(f\"Result over benchmark: {over_risk_free}% ({'BAD' if over_risk_free < 0 else 'GOOD'})\")"
      ]
    },
    {
      "cell_type": "code",
      "execution_count": null,
      "metadata": {
        "id": "UBcOX8FNkifJ",
        "colab": {
          "base_uri": "https://localhost:8080/"
        },
        "outputId": "7e44bac5-1497-4e71-be05-ef15070f88f6"
      },
      "outputs": [
        {
          "output_type": "execute_result",
          "data": {
            "text/plain": [
              "9.855822487718514"
            ]
          },
          "metadata": {},
          "execution_count": 45
        }
      ],
      "source": [
        "base_total_in_quote + new_quote"
      ]
    },
    {
      "cell_type": "code",
      "execution_count": null,
      "metadata": {
        "id": "FfqwPDGwAUjz",
        "colab": {
          "base_uri": "https://localhost:8080/",
          "height": 466
        },
        "outputId": "ae0a4cd9-6ba0-4198-c747-976540b06b30"
      },
      "outputs": [
        {
          "output_type": "execute_result",
          "data": {
            "text/plain": [
              "<Axes: xlabel='date'>"
            ]
          },
          "metadata": {},
          "execution_count": 46
        },
        {
          "output_type": "display_data",
          "data": {
            "text/plain": [
              "<Figure size 640x480 with 1 Axes>"
            ],
            "image/png": "[encoded data removed]"
          },
          "metadata": {}
        }
      ],
      "source": [
        "N: int = 50\n",
        "for indicator in indicators:\n",
        "    sdf[indicator].tail(N).plot(legend=True)\n",
        "sdf[price_type_column_name_from_sdf].tail(N).plot(legend=True)\n",
        "sdf[price].tail(N).plot(style=\"p\", legend=True, label=\"Order price\")"
      ]
    }
  ],
  "metadata": {
    "colab": {
      "provenance": []
    },
    "kernelspec": {
      "display_name": "Python 3",
      "name": "python3"
    },
    "language_info": {
      "name": "python"
    }
  },
  "nbformat": 4,
  "nbformat_minor": 0
}